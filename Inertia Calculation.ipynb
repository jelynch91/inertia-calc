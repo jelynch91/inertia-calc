{
 "cells": [
  {
   "cell_type": "markdown",
   "metadata": {},
   "source": [
    "# Inertia calculation\n",
    "\n",
    "<img src=\"images/Robophysical Diagram.png\">\n",
    "\n",
    "In order to accurately simulate the Resonant Flapper system, we need to know the inertia of the full system. In this document, I will compute and record the total inertia.\n",
    "\n",
    "## Some assumptions:\n",
    "\n",
    "1. The inertia of the silicone element itself is negligible compared to the that rest of the system, so its motion during torsion can be ignored\n",
    "\n",
    "2. The torque of the motor is large enough that we can neglect the inertia of the motor rotor in the dynamics\n",
    "\n",
    "3. The added mass from the fluid around the wing is determined by a cylinder with a length and diameter defined by the length and width of the wing\n",
    "\n",
    "4. The inertia of the timing belt is negligible\n",
    "\n",
    "## Components\n",
    "\n",
    "- Elastic element coupler\n",
    "    - Made of steel and acrylic\n",
    "- 1/2\" x 9\" steel shaft\n",
    "- 1/2\" x 18\" steel shaft\n",
    "- 1/4\" x 12\" steel shaft\n",
    "- Aluminum belt pulley (x3)\n",
    "- 1/2\" to 1/4\" shaft coupler\n",
    "- Acrylic wing\n",
    "    - 10 cm x 3.6 cm x 0.635 cm\n",
    "- Added mass\n",
    "    - Cylinder with\n",
    "        - Diam  = 3.6 cm\n",
    "        - Height = 10 cm\n",
    "        \n"
   ]
  },
  {
   "cell_type": "code",
   "execution_count": 1,
   "metadata": {},
   "outputs": [],
   "source": [
    "import math\n",
    "\n",
    "# Elastic coupler calculations\n",
    "\n",
    "# masses & dimensions\n",
    "mass_flangecoupler = 0.1847   # kg\n",
    "mass_acrylicpart  = 0.0378    # kg\n",
    "mass_nutAndBolt = 0.0114      # kg\n",
    "rad_flange_1 = 0.01583        # m\n",
    "rad_flange_2 = 0.028315       # m\n",
    "rad_acrylic  = 0.04185        # m\n",
    "rad_inner = 0.00635           # m\n",
    "rad_screws = 0.032            # m\n",
    "massfrac1 = 0.28\n",
    "massfrac2 = 0.72\n"
   ]
  },
  {
   "cell_type": "markdown",
   "metadata": {},
   "source": [
    "The elastic coupler consists of an acrylic disk and a steel flange coupler with 6 bolts (and the associated nuts). The disk is modeled as a solid disk, and the flange coupler is modeled as 2 thick-walled cylinders"
   ]
  },
  {
   "cell_type": "code",
   "execution_count": 2,
   "metadata": {},
   "outputs": [
    {
     "name": "stdout",
     "output_type": "stream",
     "text": [
      "Inertia of the elastic element coupler: 0.0001666562404499 kg m^2\n"
     ]
    }
   ],
   "source": [
    "# Compute Inertia\n",
    "\n",
    "# Flange calcs\n",
    "\n",
    "I_flange1 = 1/2*(mass_flangecoupler*massfrac1)*(rad_inner**2 + rad_flange_1**2)    #kg m^2\n",
    "I_flange2 = 1/2*(mass_flangecoupler*massfrac2)*(rad_inner**2 + rad_flange_2**2)    #kg m^2\n",
    "\n",
    "I_flange = I_flange1 + I_flange2    #kg m^2\n",
    "\n",
    "# Acrylic calcs\n",
    "\n",
    "I_acrylic = 1/2*(mass_acrylicpart)*(rad_acrylic)**2   #kg m^2\n",
    "\n",
    "# Bolts and nuts\n",
    "\n",
    "I_boltsAndNuts = 6*(mass_nutAndBolt)*rad_screws**2\n",
    "\n",
    "# Total\n",
    "\n",
    "I_elastic_coupler = I_flange+I_acrylic+I_boltsAndNuts\n",
    "\n",
    "print(\"Inertia of the elastic element coupler:\", I_elastic_coupler, \"kg m^2\")\n",
    "\n"
   ]
  },
  {
   "cell_type": "markdown",
   "metadata": {},
   "source": [
    "Next we'll get the moments of inertia for the shafts. We'll use a density of steel of 7700 kg/m^3"
   ]
  },
  {
   "cell_type": "code",
   "execution_count": 3,
   "metadata": {},
   "outputs": [
    {
     "name": "stdout",
     "output_type": "stream",
     "text": [
      " Inertia of the 1/2 x 18: 8.991077167577818e-06 kg m^2 \n",
      " Inertia of the 1/2 x 9: 4.495538583788909e-06 kg m^2 \n",
      " Inertia of the 1/4 x 14: 4.370662512016996e-07 kg m^2\n"
     ]
    }
   ],
   "source": [
    "# Shafts\n",
    "\n",
    "density_steel = 7700    # kg/m^3\n",
    "rad_05  =  0.00635       # m\n",
    "rad_025 =  0.003175     # m\n",
    "len1 = 0.4572           # m\n",
    "len2 = 0.2286           # m\n",
    "len3 = 0.3556           # m\n",
    "\n",
    "# volumes\n",
    "\n",
    "vol1 = math.pi*rad_05**2*len1   #m^3\n",
    "vol2 = math.pi*rad_05**2*len2   #m^3\n",
    "vol3 = math.pi*rad_025**2*len3   #m^3\n",
    "\n",
    "# masses\n",
    "\n",
    "mass1 = vol1*density_steel\n",
    "mass2 = vol2*density_steel\n",
    "mass3 = vol3*density_steel\n",
    "\n",
    "# inertias\n",
    "\n",
    "I_shaft05_18  = 1/2*(mass1)*(rad_05)**2\n",
    "I_shaft05_9   = 1/2*(mass2)*(rad_05)**2\n",
    "I_shaft025_14 = 1/2*(mass3)*(rad_025)**2\n",
    "\n",
    "#,\"\\n\",\"Inertia of the 1/2 x 9\",I_shaft05_9,,\"\\n\",\"Inertia of the 1/4 x 14\",I_shaft025_14\n",
    "\n",
    "print(\" Inertia of the 1/2 x 18:\",I_shaft05_18,\"kg m^2\",\"\\n\",\"Inertia of the 1/2 x 9:\",I_shaft05_9,\"kg m^2\",\"\\n\",\"Inertia of the 1/4 x 14:\",I_shaft025_14,\"kg m^2\")\n"
   ]
  },
  {
   "cell_type": "markdown",
   "metadata": {},
   "source": [
    "Now we can do the aluminum belt pulleys. These I will model as solid disks."
   ]
  },
  {
   "cell_type": "code",
   "execution_count": 4,
   "metadata": {},
   "outputs": [
    {
     "name": "stdout",
     "output_type": "stream",
     "text": [
      "The total inertia of the pulleys is 0.00068445 kg m^2\n"
     ]
    }
   ],
   "source": [
    "# Belt pulleys\n",
    "\n",
    "mass_pulley = 0.3     # kg\n",
    "rad_pulley = 0.078/2  # m\n",
    "\n",
    "# Inertia\n",
    "\n",
    "I_pulley = 1/2*mass_pulley*rad_pulley**2    # kg m^2\n",
    "\n",
    "I_pulley_total = 3*I_pulley    # kg m^2\n",
    "\n",
    "print(\"The total inertia of the pulleys is\",I_pulley_total,\"kg m^2\")"
   ]
  },
  {
   "cell_type": "code",
   "execution_count": 5,
   "metadata": {},
   "outputs": [
    {
     "name": "stdout",
     "output_type": "stream",
     "text": [
      "The inertia of the  coupler is 3.0241875e-05 kg m^2\n"
     ]
    }
   ],
   "source": [
    "# 1/2\" to 1/4\" shaft coupler\n",
    "\n",
    "mass_coupler = 0.24      # kg\n",
    "rad_coupler = 0.015875   # m\n",
    "\n",
    "# inertia\n",
    "\n",
    "I_coupler = 1/2*mass_coupler*rad_coupler**2\n",
    "\n",
    "\n",
    "print(\"The inertia of the  coupler is\",I_coupler,\"kg m^2\")\n",
    "\n"
   ]
  },
  {
   "cell_type": "markdown",
   "metadata": {},
   "source": [
    "The acrylic wing is roughly a rectangular prism rotating about an axis coincident with one end. I'll use:\n",
    "\n",
    "<img src=\"images/momentRectang.jpg\">\n",
    "\n",
    "With the Parallel Axis theorem to get the moment of inertia\n"
   ]
  },
  {
   "cell_type": "code",
   "execution_count": 6,
   "metadata": {},
   "outputs": [
    {
     "name": "stdout",
     "output_type": "stream",
     "text": [
      "The inertia of the wing is 0.00011845262072916669 kg m^2\n"
     ]
    }
   ],
   "source": [
    "# Wing\n",
    "\n",
    "L_wing = 0.1        # m\n",
    "H_wing = 0.036      # m\n",
    "T_wing = 0.00635    # m\n",
    "mass_wing = 0.0355  # kg\n",
    "\n",
    "\n",
    "# The rotation axis is parallel to H and the COM is at L/2, T/2\n",
    "\n",
    "I_wing_com = 1/12*mass_wing*(L_wing**2 + T_wing**2)\n",
    "\n",
    "# parallel axis theorem\n",
    "\n",
    "I_wing = I_wing_com + mass_wing*(L_wing/2)**2\n",
    "\n",
    "print(\"The inertia of the wing is\",I_wing,\"kg m^2\")\n"
   ]
  },
  {
   "cell_type": "markdown",
   "metadata": {},
   "source": [
    "The added mass can be roughly estimated by a cylinder with height $L_{wing}$ and diameter $H_{wing}$ and mass determined by the density of the fluid.\n",
    "\n",
    "The inertia may be calculated from:\n",
    "\n",
    "<img src=\"images/momentCyl.jpg\">\n",
    "\n",
    "I will compute the moment of inertia about the $y$ axis and then use the parallel axis theorem again"
   ]
  },
  {
   "cell_type": "code",
   "execution_count": 7,
   "metadata": {},
   "outputs": [
    {
     "name": "stdout",
     "output_type": "stream",
     "text": [
      "The inertia of the added mass is 0.0003464941919407354 kg m^2\n"
     ]
    }
   ],
   "source": [
    "# Added mass\n",
    "\n",
    "height_cyl = L_wing    # m\n",
    "rad_cyl = H_wing/2     # m\n",
    "density_water = 997    # kg/m^3\n",
    "\n",
    "vol_cyl = math.pi*rad_cyl**2*height_cyl   # m^3\n",
    "mass_cyl = density_water*vol_cyl          # kg\n",
    "\n",
    "# inertia\n",
    "\n",
    "I_addedmass_COM = 1/12*mass_cyl*(3*rad_cyl**2+height_cyl**2)\n",
    "\n",
    "I_addedmass = I_addedmass_COM + mass_cyl*(height_cyl/2)**2\n",
    "\n",
    "print(\"The inertia of the added mass is\",I_addedmass,\"kg m^2\")\n"
   ]
  },
  {
   "cell_type": "markdown",
   "metadata": {},
   "source": [
    "## Total Inertia\n",
    "\n",
    "Now that we've calculated all of the individual inertias, we can add them together to get the total inertia"
   ]
  },
  {
   "cell_type": "code",
   "execution_count": 8,
   "metadata": {},
   "outputs": [
    {
     "name": "stdout",
     "output_type": "stream",
     "text": [
      "The inertia of the total system is 0.0013602186101223704 kg m^2\n"
     ]
    }
   ],
   "source": [
    "# Sum of inertias\n",
    "\n",
    "I_system = I_elastic_coupler +I_shaft05_18 + I_shaft05_9 + I_shaft025_14 + I_pulley_total + I_coupler + I_wing + I_addedmass\n",
    "\n",
    "print(\"The inertia of the total system is\",I_system,\"kg m^2\")"
   ]
  },
  {
   "cell_type": "markdown",
   "metadata": {},
   "source": [
    "## Inertia disk\n",
    "\n",
    "Sometimes we add a large aluminum disk to the system to increase the total inertia, so it's necessary to calculate the inertia of that component. It consists of:\n",
    "\n",
    "- A flange coupler (as in the elastic coupler above)\n",
    "- A 6\" diameter aluminum disk (1/4\" thick) with a hole in the center with a 0.625\" diameter\n",
    "- 6 1/4\" x 1.75\" steel shafts at a radius of 2.5\"\n",
    "\n"
   ]
  },
  {
   "cell_type": "code",
   "execution_count": 9,
   "metadata": {},
   "outputs": [
    {
     "name": "stdout",
     "output_type": "stream",
     "text": [
      "The inertia of the inertial disk is 0.0012336276290129775 kg m^2\n"
     ]
    }
   ],
   "source": [
    "# inertial disk calc\n",
    "\n",
    "density_alum = 2700     # kg/m^3\n",
    "rad_outer_disk  = 0.0762     # m\n",
    "rad_inner_disk = 0.0079375   # m\n",
    "thickness = 0.00635     # m\n",
    "len_rods = 0.04445      # m\n",
    "rad_rods = 0.0635       # m\n",
    "\n",
    "vol_disk = math.pi * (rad_outer_disk**2 - rad_inner_disk**2)*thickness\n",
    "mass_disk = density_alum*vol_disk\n",
    "\n",
    "vol_rod = math.pi*(rad_025**2)*len_rods\n",
    "mass_rod = density_steel*vol_rod\n",
    "\n",
    "\n",
    "# Inertia\n",
    "\n",
    "I_disk = 1/2*mass_disk*(rad_inner_disk**2+rad_outer_disk**2) + 6*mass_rod*rad_rods**2 + I_flange\n",
    "\n",
    "print(\"The inertia of the inertial disk is\",I_disk,\"kg m^2\")\n",
    "\n",
    "\n"
   ]
  },
  {
   "cell_type": "code",
   "execution_count": null,
   "metadata": {},
   "outputs": [],
   "source": []
  },
  {
   "cell_type": "code",
   "execution_count": null,
   "metadata": {},
   "outputs": [],
   "source": []
  }
 ],
 "metadata": {
  "kernelspec": {
   "display_name": "Python 3",
   "language": "python",
   "name": "python3"
  },
  "language_info": {
   "codemirror_mode": {
    "name": "ipython",
    "version": 3
   },
   "file_extension": ".py",
   "mimetype": "text/x-python",
   "name": "python",
   "nbconvert_exporter": "python",
   "pygments_lexer": "ipython3",
   "version": "3.6.5"
  }
 },
 "nbformat": 4,
 "nbformat_minor": 2
}
